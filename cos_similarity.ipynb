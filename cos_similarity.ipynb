{
  "nbformat": 4,
  "nbformat_minor": 0,
  "metadata": {
    "colab": {
      "name": "cos_similarity.ipynb",
      "provenance": [],
      "authorship_tag": "ABX9TyOXi6DHnyeHQdOVrUE+WXGu",
      "include_colab_link": true
    },
    "kernelspec": {
      "name": "python3",
      "display_name": "Python 3"
    },
    "language_info": {
      "name": "python"
    }
  },
  "cells": [
    {
      "cell_type": "markdown",
      "metadata": {
        "id": "view-in-github",
        "colab_type": "text"
      },
      "source": [
        "<a href=\"https://colab.research.google.com/github/fonslucens/test_rdb/blob/master/cos_similarity.ipynb\" target=\"_parent\"><img src=\"https://colab.research.google.com/assets/colab-badge.svg\" alt=\"Open In Colab\"/></a>"
      ]
    },
    {
      "cell_type": "markdown",
      "metadata": {
        "id": "7CkZuIm1oRF1"
      },
      "source": [
        " 바나나  사과  저는  좋아요\n",
        "문서1   0      1     1     1\n",
        "문서2   1      0     1     1\n",
        "문서3   2      0     2     2\n"
      ]
    },
    {
      "cell_type": "code",
      "metadata": {
        "id": "1kdA5WZCnAQt"
      },
      "source": [
        "from numpy import dot\n",
        "from numpy.linalg import norm\n",
        "import numpy as np\n",
        "def cos_sim(A, B):\n",
        "       return dot(A, B)/(norm(A)*norm(B))"
      ],
      "execution_count": 1,
      "outputs": []
    },
    {
      "cell_type": "code",
      "metadata": {
        "id": "TTLKi1Cqo2Ck"
      },
      "source": [
        "doc1 = np.array([1, 0, 1, 1, 1])\n",
        "doc2 = np.array([2, 1, 0, 1, 1])\n",
        "doc3 = np.array([3, 2, 0, 2, 2])"
      ],
      "execution_count": 2,
      "outputs": []
    },
    {
      "cell_type": "code",
      "metadata": {
        "colab": {
          "base_uri": "https://localhost:8080/"
        },
        "id": "t2LUKfqZpTa4",
        "outputId": "ab78564b-afed-4431-95f6-a5f749f28c25"
      },
      "source": [
        "cos_sim(doc1, doc2)"
      ],
      "execution_count": 3,
      "outputs": [
        {
          "output_type": "execute_result",
          "data": {
            "text/plain": [
              "0.7559289460184544"
            ]
          },
          "metadata": {},
          "execution_count": 3
        }
      ]
    },
    {
      "cell_type": "code",
      "metadata": {
        "colab": {
          "base_uri": "https://localhost:8080/"
        },
        "id": "rNhDvf8wqPl8",
        "outputId": "0910d945-6bae-42dc-a610-90807b9ac4eb"
      },
      "source": [
        "cos_sim(doc1, doc3)"
      ],
      "execution_count": 4,
      "outputs": [
        {
          "output_type": "execute_result",
          "data": {
            "text/plain": [
              "0.7637626158259734"
            ]
          },
          "metadata": {},
          "execution_count": 4
        }
      ]
    },
    {
      "cell_type": "markdown",
      "metadata": {
        "id": "j29Ho1ixxpZs"
      },
      "source": [
        "Client ID : aITCAPrRSpJfA6kKKSbO\n",
        "\n",
        "Client Secret : fuxth8kTcc"
      ]
    },
    {
      "cell_type": "code",
      "metadata": {
        "id": "nZUCBqOtqTZN"
      },
      "source": [
        ""
      ],
      "execution_count": null,
      "outputs": []
    }
  ]
}